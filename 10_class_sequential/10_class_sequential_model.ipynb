{
 "cells": [
  {
   "cell_type": "code",
   "execution_count": 1,
   "id": "c6ca4d2c",
   "metadata": {},
   "outputs": [],
   "source": [
    "import numpy as np\n",
    "from tensorflow import keras\n",
    "from keras.constraints import maxnorm\n",
    "from keras.utils import np_utils"
   ]
  },
  {
   "cell_type": "code",
   "execution_count": 2,
   "id": "497d879a",
   "metadata": {},
   "outputs": [],
   "source": [
    "seed = 21"
   ]
  },
  {
   "cell_type": "code",
   "execution_count": 3,
   "id": "8f2456c1",
   "metadata": {},
   "outputs": [],
   "source": [
    "import os\n",
    "import cv2\n",
    "from PIL import Image\n",
    "import numpy as np\n",
    "\n",
    "def load_data(path_to_class_folders):\n",
    "  x_data = []\n",
    "  y_data = []\n",
    "  for i, class_folder in enumerate(os.listdir(path_to_class_folders)):\n",
    "    for image_file in os.listdir(os.path.join(path_to_class_folders, class_folder)):\n",
    "        if(image_file != '.ipynb_checkpoints'):\n",
    "          # using pillow, for reading the image and converting to a NumPy-Array\n",
    "          image = np.array(Image.open(os.path.join(path_to_class_folders, class_folder, image_file)))\n",
    "          image = cv2.resize(image,(32,32)) \n",
    "          x_data.append(image)\n",
    "          y_data.append(i)\n",
    "  x_data = np.array(x_data)\n",
    "  y_data = np.array(y_data)\n",
    "  return x_data, y_data"
   ]
  },
  {
   "cell_type": "code",
   "execution_count": 4,
   "id": "6fcf68e8",
   "metadata": {},
   "outputs": [],
   "source": [
    "#from keras.datasets import cifar10\n",
    "# Loading in the data\n",
    "#(X_train, y_train), (X_test, y_test) = cifar10.load_data()\n",
    "\n",
    "\n",
    "X_train, y_train = load_data('./output')\n",
    "X_test, y_test = load_data('./output')"
   ]
  },
  {
   "cell_type": "code",
   "execution_count": 5,
   "id": "ae7ac3f1",
   "metadata": {},
   "outputs": [],
   "source": [
    "X_train = X_train.astype('float32')\n",
    "X_test = X_test.astype('float32')\n",
    "X_train = X_train / 255.0\n",
    "X_test = X_test / 255.0"
   ]
  },
  {
   "cell_type": "code",
   "execution_count": 6,
   "id": "99b47a3e",
   "metadata": {},
   "outputs": [],
   "source": [
    "y_train = np_utils.to_categorical(y_train)\n",
    "y_test = np_utils.to_categorical(y_test)\n",
    "class_num = y_test.shape[1]"
   ]
  },
  {
   "cell_type": "code",
   "execution_count": 7,
   "id": "26a14c1d",
   "metadata": {},
   "outputs": [],
   "source": [
    "model = keras.Sequential()"
   ]
  },
  {
   "cell_type": "code",
   "execution_count": 8,
   "id": "31b43271",
   "metadata": {},
   "outputs": [
    {
     "name": "stdout",
     "output_type": "stream",
     "text": [
      "Model: \"sequential\"\n",
      "_________________________________________________________________\n",
      " Layer (type)                Output Shape              Param #   \n",
      "=================================================================\n",
      " conv2d (Conv2D)             (None, 32, 32, 32)        896       \n",
      "                                                                 \n",
      " dropout (Dropout)           (None, 32, 32, 32)        0         \n",
      "                                                                 \n",
      " batch_normalization (BatchN  (None, 32, 32, 32)       128       \n",
      " ormalization)                                                   \n",
      "                                                                 \n",
      " conv2d_1 (Conv2D)           (None, 32, 32, 64)        18496     \n",
      "                                                                 \n",
      " max_pooling2d (MaxPooling2D  (None, 16, 16, 64)       0         \n",
      " )                                                               \n",
      "                                                                 \n",
      " dropout_1 (Dropout)         (None, 16, 16, 64)        0         \n",
      "                                                                 \n",
      " batch_normalization_1 (Batc  (None, 16, 16, 64)       256       \n",
      " hNormalization)                                                 \n",
      "                                                                 \n",
      " conv2d_2 (Conv2D)           (None, 16, 16, 64)        36928     \n",
      "                                                                 \n",
      " max_pooling2d_1 (MaxPooling  (None, 8, 8, 64)         0         \n",
      " 2D)                                                             \n",
      "                                                                 \n",
      " dropout_2 (Dropout)         (None, 8, 8, 64)          0         \n",
      "                                                                 \n",
      " batch_normalization_2 (Batc  (None, 8, 8, 64)         256       \n",
      " hNormalization)                                                 \n",
      "                                                                 \n",
      " conv2d_3 (Conv2D)           (None, 8, 8, 128)         73856     \n",
      "                                                                 \n",
      " dropout_3 (Dropout)         (None, 8, 8, 128)         0         \n",
      "                                                                 \n",
      " batch_normalization_3 (Batc  (None, 8, 8, 128)        512       \n",
      " hNormalization)                                                 \n",
      "                                                                 \n",
      " flatten (Flatten)           (None, 8192)              0         \n",
      "                                                                 \n",
      " dropout_4 (Dropout)         (None, 8192)              0         \n",
      "                                                                 \n",
      " dense (Dense)               (None, 32)                262176    \n",
      "                                                                 \n",
      " dropout_5 (Dropout)         (None, 32)                0         \n",
      "                                                                 \n",
      " batch_normalization_4 (Batc  (None, 32)               128       \n",
      " hNormalization)                                                 \n",
      "                                                                 \n",
      " dense_1 (Dense)             (None, 10)                330       \n",
      "                                                                 \n",
      "=================================================================\n",
      "Total params: 393,962\n",
      "Trainable params: 393,322\n",
      "Non-trainable params: 640\n",
      "_________________________________________________________________\n",
      "None\n"
     ]
    }
   ],
   "source": [
    "model.add(keras.layers.Conv2D(32, 3, input_shape=(32, 32, 3), activation='relu', padding='same'))\n",
    "model.add(keras.layers.Dropout(0.2))\n",
    "model.add(keras.layers.BatchNormalization())\n",
    "\n",
    "model.add(keras.layers.Conv2D(64, (3, 3), padding='same', activation='relu'))\n",
    "model.add(keras.layers.MaxPooling2D(2))\n",
    "model.add(keras.layers.Dropout(0.2))\n",
    "model.add(keras.layers.BatchNormalization())\n",
    "\n",
    "model.add(keras.layers.Conv2D(64, 3, padding='same', activation='relu'))\n",
    "model.add(keras.layers.MaxPooling2D(2))\n",
    "model.add(keras.layers.Dropout(0.2))\n",
    "model.add(keras.layers.BatchNormalization())\n",
    "    \n",
    "model.add(keras.layers.Conv2D(128, (3, 3), padding='same', activation='relu'))\n",
    "model.add(keras.layers.Dropout(0.2))\n",
    "model.add(keras.layers.BatchNormalization())\n",
    "\n",
    "model.add(keras.layers.Flatten())\n",
    "model.add(keras.layers.Dropout(0.2))\n",
    "model.add(keras.layers.Dense(32, activation='relu'))\n",
    "model.add(keras.layers.Dropout(0.3))\n",
    "model.add(keras.layers.BatchNormalization())\n",
    "\n",
    "model.add(keras.layers.Dense(class_num, activation='softmax'))\n",
    "\n",
    "model.compile(loss='categorical_crossentropy', optimizer='adam', metrics=['accuracy'])\n",
    "\n",
    "print(model.summary())"
   ]
  },
  {
   "cell_type": "code",
   "execution_count": 9,
   "id": "b2ea1a3a",
   "metadata": {},
   "outputs": [
    {
     "name": "stdout",
     "output_type": "stream",
     "text": [
      "Epoch 1/25\n",
      "4/4 [==============================] - 1s 203ms/step - loss: 2.6880 - accuracy: 0.1553 - val_loss: 2.2710 - val_accuracy: 0.2913\n",
      "Epoch 2/25\n",
      "4/4 [==============================] - 1s 146ms/step - loss: 2.1847 - accuracy: 0.2282 - val_loss: 2.2619 - val_accuracy: 0.2330\n",
      "Epoch 3/25\n",
      "4/4 [==============================] - 1s 143ms/step - loss: 1.9325 - accuracy: 0.2961 - val_loss: 2.2796 - val_accuracy: 0.1117\n",
      "Epoch 4/25\n",
      "4/4 [==============================] - 1s 146ms/step - loss: 1.8901 - accuracy: 0.2670 - val_loss: 2.2940 - val_accuracy: 0.0971\n",
      "Epoch 5/25\n",
      "4/4 [==============================] - 1s 145ms/step - loss: 1.8878 - accuracy: 0.3107 - val_loss: 2.3163 - val_accuracy: 0.0971\n",
      "Epoch 6/25\n",
      "4/4 [==============================] - 1s 147ms/step - loss: 1.8079 - accuracy: 0.3010 - val_loss: 2.3469 - val_accuracy: 0.0971\n",
      "Epoch 7/25\n",
      "4/4 [==============================] - 1s 146ms/step - loss: 1.7878 - accuracy: 0.3301 - val_loss: 2.3769 - val_accuracy: 0.0971\n",
      "Epoch 8/25\n",
      "4/4 [==============================] - 1s 179ms/step - loss: 1.7042 - accuracy: 0.3447 - val_loss: 2.4055 - val_accuracy: 0.1117\n",
      "Epoch 9/25\n",
      "4/4 [==============================] - 1s 154ms/step - loss: 1.6769 - accuracy: 0.3544 - val_loss: 2.4313 - val_accuracy: 0.1942\n",
      "Epoch 10/25\n",
      "4/4 [==============================] - 1s 145ms/step - loss: 1.5672 - accuracy: 0.3932 - val_loss: 2.4524 - val_accuracy: 0.0922\n",
      "Epoch 11/25\n",
      "4/4 [==============================] - 1s 152ms/step - loss: 1.5784 - accuracy: 0.3786 - val_loss: 2.4772 - val_accuracy: 0.0922\n",
      "Epoch 12/25\n",
      "4/4 [==============================] - 1s 159ms/step - loss: 1.5304 - accuracy: 0.4126 - val_loss: 2.4987 - val_accuracy: 0.0922\n",
      "Epoch 13/25\n",
      "4/4 [==============================] - 1s 140ms/step - loss: 1.4972 - accuracy: 0.4029 - val_loss: 2.5212 - val_accuracy: 0.0922\n",
      "Epoch 14/25\n",
      "4/4 [==============================] - 1s 163ms/step - loss: 1.4595 - accuracy: 0.4563 - val_loss: 2.5524 - val_accuracy: 0.0922\n",
      "Epoch 15/25\n",
      "4/4 [==============================] - 1s 159ms/step - loss: 1.3917 - accuracy: 0.4515 - val_loss: 2.6025 - val_accuracy: 0.0922\n",
      "Epoch 16/25\n",
      "4/4 [==============================] - 1s 152ms/step - loss: 1.3545 - accuracy: 0.4660 - val_loss: 2.6444 - val_accuracy: 0.0922\n",
      "Epoch 17/25\n",
      "4/4 [==============================] - 1s 154ms/step - loss: 1.3079 - accuracy: 0.4612 - val_loss: 2.6757 - val_accuracy: 0.0922\n",
      "Epoch 18/25\n",
      "4/4 [==============================] - 1s 152ms/step - loss: 1.3311 - accuracy: 0.5194 - val_loss: 2.7178 - val_accuracy: 0.0922\n",
      "Epoch 19/25\n",
      "4/4 [==============================] - 1s 145ms/step - loss: 1.2675 - accuracy: 0.5049 - val_loss: 2.8004 - val_accuracy: 0.0922\n",
      "Epoch 20/25\n",
      "4/4 [==============================] - 1s 145ms/step - loss: 1.1621 - accuracy: 0.5825 - val_loss: 2.9258 - val_accuracy: 0.0922\n",
      "Epoch 21/25\n",
      "4/4 [==============================] - 1s 144ms/step - loss: 1.2193 - accuracy: 0.5583 - val_loss: 3.0406 - val_accuracy: 0.0922\n",
      "Epoch 22/25\n",
      "4/4 [==============================] - 1s 146ms/step - loss: 1.2341 - accuracy: 0.4903 - val_loss: 3.0366 - val_accuracy: 0.0922\n",
      "Epoch 23/25\n",
      "4/4 [==============================] - 1s 147ms/step - loss: 1.1672 - accuracy: 0.5631 - val_loss: 3.0406 - val_accuracy: 0.0922\n",
      "Epoch 24/25\n",
      "4/4 [==============================] - 1s 168ms/step - loss: 1.2635 - accuracy: 0.5243 - val_loss: 2.9699 - val_accuracy: 0.0922\n",
      "Epoch 25/25\n",
      "4/4 [==============================] - 1s 170ms/step - loss: 1.1575 - accuracy: 0.5437 - val_loss: 2.9007 - val_accuracy: 0.0922\n"
     ]
    }
   ],
   "source": [
    "np.random.seed(seed)\n",
    "history = model.fit(X_train, y_train, validation_data=(X_test, y_test), epochs=25, batch_size=64)"
   ]
  },
  {
   "cell_type": "code",
   "execution_count": 10,
   "id": "910387cb",
   "metadata": {},
   "outputs": [
    {
     "data": {
      "text/plain": [
       "[2.9006857872009277, 0.09223300963640213]"
      ]
     },
     "execution_count": 10,
     "metadata": {},
     "output_type": "execute_result"
    }
   ],
   "source": [
    "model.evaluate(X_test, y_test, verbose=0)"
   ]
  },
  {
   "cell_type": "code",
   "execution_count": 11,
   "id": "11a8356d",
   "metadata": {},
   "outputs": [
    {
     "data": {
      "image/png": "[encoded data removed]",
      "text/plain": [
       "<Figure size 640x480 with 1 Axes>"
      ]
     },
     "metadata": {},
     "output_type": "display_data"
    }
   ],
   "source": [
    "import pandas as pd\n",
    "import matplotlib.pyplot as plt\n",
    "\n",
    "pd.DataFrame(history.history).plot()\n",
    "plt.show()"
   ]
  },
  {
   "cell_type": "code",
   "execution_count": null,
   "id": "a26a4b12",
   "metadata": {},
   "outputs": [],
   "source": []
  }
 ],
 "metadata": {
  "kernelspec": {
   "display_name": "Python 3 (ipykernel)",
   "language": "python",
   "name": "python3"
  },
  "language_info": {
   "codemirror_mode": {
    "name": "ipython",
    "version": 3
   },
   "file_extension": ".py",
   "mimetype": "text/x-python",
   "name": "python",
   "nbconvert_exporter": "python",
   "pygments_lexer": "ipython3",
   "version": "3.9.12"
  }
 },
 "nbformat": 4,
 "nbformat_minor": 5
}
