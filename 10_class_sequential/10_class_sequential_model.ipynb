{
 "cells": [
  {
   "cell_type": "code",
   "execution_count": 1,
   "id": "c6ca4d2c",
   "metadata": {},
   "outputs": [],
   "source": [
    "import numpy as np\n",
    "from tensorflow import keras\n",
    "from keras.constraints import maxnorm\n",
    "from keras.utils import np_utils"
   ]
  },
  {
   "cell_type": "code",
   "execution_count": 2,
   "id": "497d879a",
   "metadata": {},
   "outputs": [],
   "source": [
    "seed = 21"
   ]
  },
  {
   "cell_type": "code",
   "execution_count": 3,
   "id": "8f2456c1",
   "metadata": {},
   "outputs": [],
   "source": [
    "import os\n",
    "import cv2\n",
    "from PIL import Image\n",
    "import numpy as np\n",
    "\n",
    "def load_data(path_to_class_folders):\n",
    "  x_data = []\n",
    "  y_data = []\n",
    "  for i, class_folder in enumerate(os.listdir(path_to_class_folders)):\n",
    "    for image_file in os.listdir(os.path.join(path_to_class_folders, class_folder)):\n",
    "        if(image_file != '.ipynb_checkpoints'):\n",
    "          # using pillow, for reading the image and converting to a NumPy-Array\n",
    "          image = np.array(Image.open(os.path.join(path_to_class_folders, class_folder, image_file)))\n",
    "          image = cv2.resize(image,(32,32)) \n",
    "          x_data.append(image)\n",
    "          y_data.append(i)\n",
    "  x_data = np.array(x_data)\n",
    "  y_data = np.array(y_data)\n",
    "  return x_data, y_data"
   ]
  },
  {
   "cell_type": "code",
   "execution_count": 4,
   "id": "6fcf68e8",
   "metadata": {},
   "outputs": [],
   "source": [
    "#from keras.datasets import cifar10\n",
    "# Loading in the data\n",
    "#(X_train, y_train), (X_test, y_test) = cifar10.load_data()\n",
    "\n",
    "\n",
    "X_train, y_train = load_data('./output')\n",
    "X_test, y_test = load_data('./output')"
   ]
  },
  {
   "cell_type": "code",
   "execution_count": 5,
   "id": "ae7ac3f1",
   "metadata": {},
   "outputs": [],
   "source": [
    "X_train = X_train.astype('float32')\n",
    "X_test = X_test.astype('float32')\n",
    "X_train = X_train / 255.0\n",
    "X_test = X_test / 255.0"
   ]
  },
  {
   "cell_type": "code",
   "execution_count": 6,
   "id": "99b47a3e",
   "metadata": {},
   "outputs": [],
   "source": [
    "y_train = np_utils.to_categorical(y_train)\n",
    "y_test = np_utils.to_categorical(y_test)\n",
    "class_num = y_test.shape[1]"
   ]
  },
  {
   "cell_type": "code",
   "execution_count": 7,
   "id": "26a14c1d",
   "metadata": {},
   "outputs": [],
   "source": [
    "model = keras.Sequential()"
   ]
  },
  {
   "cell_type": "code",
   "execution_count": 8,
   "id": "31b43271",
   "metadata": {},
   "outputs": [
    {
     "name": "stdout",
     "output_type": "stream",
     "text": [
      "Model: \"sequential\"\n",
      "_________________________________________________________________\n",
      " Layer (type)                Output Shape              Param #   \n",
      "=================================================================\n",
      " conv2d (Conv2D)             (None, 32, 32, 32)        896       \n",
      "                                                                 \n",
      " dropout (Dropout)           (None, 32, 32, 32)        0         \n",
      "                                                                 \n",
      " batch_normalization (BatchN  (None, 32, 32, 32)       128       \n",
      " ormalization)                                                   \n",
      "                                                                 \n",
      " conv2d_1 (Conv2D)           (None, 32, 32, 64)        18496     \n",
      "                                                                 \n",
      " max_pooling2d (MaxPooling2D  (None, 16, 16, 64)       0         \n",
      " )                                                               \n",
      "                                                                 \n",
      " dropout_1 (Dropout)         (None, 16, 16, 64)        0         \n",
      "                                                                 \n",
      " batch_normalization_1 (Batc  (None, 16, 16, 64)       256       \n",
      " hNormalization)                                                 \n",
      "                                                                 \n",
      " conv2d_2 (Conv2D)           (None, 16, 16, 64)        36928     \n",
      "                                                                 \n",
      " max_pooling2d_1 (MaxPooling  (None, 8, 8, 64)         0         \n",
      " 2D)                                                             \n",
      "                                                                 \n",
      " dropout_2 (Dropout)         (None, 8, 8, 64)          0         \n",
      "                                                                 \n",
      " batch_normalization_2 (Batc  (None, 8, 8, 64)         256       \n",
      " hNormalization)                                                 \n",
      "                                                                 \n",
      " conv2d_3 (Conv2D)           (None, 8, 8, 128)         73856     \n",
      "                                                                 \n",
      " dropout_3 (Dropout)         (None, 8, 8, 128)         0         \n",
      "                                                                 \n",
      " batch_normalization_3 (Batc  (None, 8, 8, 128)        512       \n",
      " hNormalization)                                                 \n",
      "                                                                 \n",
      " flatten (Flatten)           (None, 8192)              0         \n",
      "                                                                 \n",
      " dropout_4 (Dropout)         (None, 8192)              0         \n",
      "                                                                 \n",
      " dense (Dense)               (None, 32)                262176    \n",
      "                                                                 \n",
      " dropout_5 (Dropout)         (None, 32)                0         \n",
      "                                                                 \n",
      " batch_normalization_4 (Batc  (None, 32)               128       \n",
      " hNormalization)                                                 \n",
      "                                                                 \n",
      " dense_1 (Dense)             (None, 10)                330       \n",
      "                                                                 \n",
      "=================================================================\n",
      "Total params: 393,962\n",
      "Trainable params: 393,322\n",
      "Non-trainable params: 640\n",
      "_________________________________________________________________\n",
      "None\n"
     ]
    }
   ],
   "source": [
    "model.add(keras.layers.Conv2D(32, 3, input_shape=(32, 32, 3), activation='relu', padding='same'))\n",
    "model.add(keras.layers.Dropout(0.2))\n",
    "model.add(keras.layers.BatchNormalization())\n",
    "\n",
    "model.add(keras.layers.Conv2D(64, (3, 3), padding='same', activation='relu'))\n",
    "model.add(keras.layers.MaxPooling2D(2))\n",
    "model.add(keras.layers.Dropout(0.2))\n",
    "model.add(keras.layers.BatchNormalization())\n",
    "\n",
    "model.add(keras.layers.Conv2D(64, 3, padding='same', activation='relu'))\n",
    "model.add(keras.layers.MaxPooling2D(2))\n",
    "model.add(keras.layers.Dropout(0.2))\n",
    "model.add(keras.layers.BatchNormalization())\n",
    "    \n",
    "model.add(keras.layers.Conv2D(128, (3, 3), padding='same', activation='relu'))\n",
    "model.add(keras.layers.Dropout(0.2))\n",
    "model.add(keras.layers.BatchNormalization())\n",
    "\n",
    "model.add(keras.layers.Flatten())\n",
    "model.add(keras.layers.Dropout(0.2))\n",
    "model.add(keras.layers.Dense(32, activation='relu'))\n",
    "model.add(keras.layers.Dropout(0.3))\n",
    "model.add(keras.layers.BatchNormalization())\n",
    "\n",
    "model.add(keras.layers.Dense(class_num, activation='softmax'))\n",
    "\n",
    "model.compile(loss='categorical_crossentropy', optimizer='adam', metrics=['accuracy'])\n",
    "\n",
    "print(model.summary())"
   ]
  },
  {
   "cell_type": "code",
   "execution_count": 9,
   "id": "b2ea1a3a",
   "metadata": {},
   "outputs": [
    {
     "name": "stdout",
     "output_type": "stream",
     "text": [
      "Epoch 1/25\n",
      "4/4 [==============================] - 2s 205ms/step - loss: 2.6312 - accuracy: 0.1650 - val_loss: 2.2892 - val_accuracy: 0.2233\n",
      "Epoch 2/25\n",
      "4/4 [==============================] - 1s 147ms/step - loss: 2.1364 - accuracy: 0.2573 - val_loss: 2.2797 - val_accuracy: 0.2039\n",
      "Epoch 3/25\n",
      "4/4 [==============================] - 1s 144ms/step - loss: 2.2506 - accuracy: 0.2330 - val_loss: 2.2725 - val_accuracy: 0.1359\n",
      "Epoch 4/25\n",
      "4/4 [==============================] - 1s 141ms/step - loss: 2.1518 - accuracy: 0.2913 - val_loss: 2.2724 - val_accuracy: 0.0922\n",
      "Epoch 5/25\n",
      "4/4 [==============================] - 1s 146ms/step - loss: 1.9850 - accuracy: 0.3155 - val_loss: 2.2759 - val_accuracy: 0.0922\n",
      "Epoch 6/25\n",
      "4/4 [==============================] - 1s 146ms/step - loss: 1.8933 - accuracy: 0.3447 - val_loss: 2.2840 - val_accuracy: 0.0922\n",
      "Epoch 7/25\n",
      "4/4 [==============================] - 1s 146ms/step - loss: 1.9191 - accuracy: 0.2670 - val_loss: 2.2937 - val_accuracy: 0.0922\n",
      "Epoch 8/25\n",
      "4/4 [==============================] - 1s 147ms/step - loss: 1.7428 - accuracy: 0.3981 - val_loss: 2.3058 - val_accuracy: 0.0922\n",
      "Epoch 9/25\n",
      "4/4 [==============================] - 1s 148ms/step - loss: 1.8480 - accuracy: 0.3252 - val_loss: 2.3261 - val_accuracy: 0.1019\n",
      "Epoch 10/25\n",
      "4/4 [==============================] - 1s 145ms/step - loss: 1.7816 - accuracy: 0.3350 - val_loss: 2.3614 - val_accuracy: 0.0971\n",
      "Epoch 11/25\n",
      "4/4 [==============================] - 1s 146ms/step - loss: 1.6391 - accuracy: 0.4417 - val_loss: 2.3744 - val_accuracy: 0.0971\n",
      "Epoch 12/25\n",
      "4/4 [==============================] - 1s 146ms/step - loss: 1.6725 - accuracy: 0.4175 - val_loss: 2.3610 - val_accuracy: 0.0922\n",
      "Epoch 13/25\n",
      "4/4 [==============================] - 1s 148ms/step - loss: 1.6078 - accuracy: 0.4320 - val_loss: 2.3567 - val_accuracy: 0.0922\n",
      "Epoch 14/25\n",
      "4/4 [==============================] - 1s 149ms/step - loss: 1.5795 - accuracy: 0.4223 - val_loss: 2.3600 - val_accuracy: 0.0922\n",
      "Epoch 15/25\n",
      "4/4 [==============================] - 1s 147ms/step - loss: 1.4943 - accuracy: 0.4709 - val_loss: 2.3651 - val_accuracy: 0.0922\n",
      "Epoch 16/25\n",
      "4/4 [==============================] - 1s 147ms/step - loss: 1.4592 - accuracy: 0.4466 - val_loss: 2.3716 - val_accuracy: 0.0922\n",
      "Epoch 17/25\n",
      "4/4 [==============================] - 1s 146ms/step - loss: 1.4851 - accuracy: 0.4854 - val_loss: 2.3838 - val_accuracy: 0.0922\n",
      "Epoch 18/25\n",
      "4/4 [==============================] - 1s 145ms/step - loss: 1.4232 - accuracy: 0.5097 - val_loss: 2.4042 - val_accuracy: 0.0922\n",
      "Epoch 19/25\n",
      "4/4 [==============================] - 1s 147ms/step - loss: 1.4056 - accuracy: 0.4417 - val_loss: 2.4250 - val_accuracy: 0.1796\n",
      "Epoch 20/25\n",
      "4/4 [==============================] - 1s 148ms/step - loss: 1.4068 - accuracy: 0.4369 - val_loss: 2.4187 - val_accuracy: 0.1068\n",
      "Epoch 21/25\n",
      "4/4 [==============================] - 1s 149ms/step - loss: 1.3666 - accuracy: 0.4903 - val_loss: 2.4084 - val_accuracy: 0.1019\n",
      "Epoch 22/25\n",
      "4/4 [==============================] - 1s 147ms/step - loss: 1.3142 - accuracy: 0.5291 - val_loss: 2.3988 - val_accuracy: 0.1019\n",
      "Epoch 23/25\n",
      "4/4 [==============================] - 1s 148ms/step - loss: 1.2680 - accuracy: 0.5388 - val_loss: 2.3897 - val_accuracy: 0.1117\n",
      "Epoch 24/25\n",
      "4/4 [==============================] - 1s 146ms/step - loss: 1.2557 - accuracy: 0.5534 - val_loss: 2.4106 - val_accuracy: 0.1117\n",
      "Epoch 25/25\n",
      "4/4 [==============================] - 1s 147ms/step - loss: 1.2192 - accuracy: 0.5437 - val_loss: 2.4297 - val_accuracy: 0.1117\n"
     ]
    }
   ],
   "source": [
    "np.random.seed(seed)\n",
    "history = model.fit(X_train, y_train, validation_data=(X_test, y_test), epochs=25, batch_size=64)"
   ]
  },
  {
   "cell_type": "code",
   "execution_count": 10,
   "id": "910387cb",
   "metadata": {},
   "outputs": [
    {
     "data": {
      "text/plain": [
       "[2.4296977519989014, 0.1116504818201065]"
      ]
     },
     "execution_count": 10,
     "metadata": {},
     "output_type": "execute_result"
    }
   ],
   "source": [
    "model.evaluate(X_test, y_test, verbose=0)"
   ]
  },
  {
   "cell_type": "code",
   "execution_count": 11,
   "id": "11a8356d",
   "metadata": {},
   "outputs": [
    {
     "data": {
      "image/png": "[encoded data removed]",
      "text/plain": [
       "<Figure size 640x480 with 1 Axes>"
      ]
     },
     "metadata": {},
     "output_type": "display_data"
    }
   ],
   "source": [
    "import pandas as pd\n",
    "import matplotlib.pyplot as plt\n",
    "\n",
    "pd.DataFrame(history.history).plot()\n",
    "plt.show()"
   ]
  },
  {
   "cell_type": "code",
   "execution_count": 12,
   "id": "a26a4b12",
   "metadata": {},
   "outputs": [
    {
     "name": "stdout",
     "output_type": "stream",
     "text": [
      "7/7 [==============================] - 0s 13ms/step\n",
      "[[ 0  0 19  0  0  0  0  0  0  0]\n",
      " [ 0  0 20  0  0  0  0  0  0  0]\n",
      " [ 0  0 23  0  0  0  0  0  0  0]\n",
      " [ 0  0 21  0  0  0  0  0  0  0]\n",
      " [ 0  0 21  0  0  0  0  0  0  0]\n",
      " [ 0  0 20  0  0  0  0  0  0  0]\n",
      " [ 0  0 17  0  0  0  0  0  0  0]\n",
      " [ 0  0 19  0  0  0  0  0  0  0]\n",
      " [ 0  0 21  0  0  0  0  0  0  0]\n",
      " [ 0  0 25  0  0  0  0  0  0  0]]\n"
     ]
    }
   ],
   "source": [
    "from sklearn.metrics import confusion_matrix\n",
    "\n",
    "# Berechnen von Vorhersagen für Testdaten\n",
    "# Calculating predictions for testdata\n",
    "predictions = model.predict(X_test)\n",
    "\n",
    "# Converting of predictions and classes in vectors and single values\n",
    "predictions = np.argmax(predictions, axis=1)\n",
    "y_test = np.argmax(y_test, axis=1)\n",
    "\n",
    "# Calculating of confusion_matrix\n",
    "confusion_matrix = confusion_matrix(y_test, predictions)\n",
    "# Row stands for the available class and columns for the right assigned class\n",
    "print(confusion_matrix)"
   ]
  },
  {
   "cell_type": "code",
   "execution_count": null,
   "id": "17428515",
   "metadata": {},
   "outputs": [],
   "source": []
  }
 ],
 "metadata": {
  "kernelspec": {
   "display_name": "Python 3 (ipykernel)",
   "language": "python",
   "name": "python3"
  },
  "language_info": {
   "codemirror_mode": {
    "name": "ipython",
    "version": 3
   },
   "file_extension": ".py",
   "mimetype": "text/x-python",
   "name": "python",
   "nbconvert_exporter": "python",
   "pygments_lexer": "ipython3",
   "version": "3.9.12"
  }
 },
 "nbformat": 4,
 "nbformat_minor": 5
}
